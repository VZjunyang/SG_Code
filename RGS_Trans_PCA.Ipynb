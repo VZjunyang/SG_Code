{
 "cells": [
  {
   "cell_type": "code",
   "execution_count": 1,
   "metadata": {},
   "outputs": [],
   "source": [
    "import QBOOST as qb\n",
    "import numpy as np\n",
    "import matplotlib.pyplot as plt\n",
    "import scipy as sp\n",
    "import math\n",
    "import pandas as pd\n",
    "import seaborn as sns\n",
    "from sklearn.decomposition import PCA\n",
    "from sklearn.model_selection import train_test_split\n",
    "from sklearn.tree import DecisionTreeClassifier\n",
    "from sklearn.neighbors import KNeighborsClassifier\n",
    "from sklearn.model_selection import GridSearchCV\n",
    "from sklearn.metrics import confusion_matrix"
   ]
  },
  {
   "cell_type": "code",
   "execution_count": 3,
   "metadata": {},
   "outputs": [],
   "source": [
    "data = pd.read_csv('train.csv')\n",
    "y = data['target']\n",
    "x = data.drop(['target', 'ID_code'], axis=1)"
   ]
  },
  {
   "cell_type": "code",
   "execution_count": 4,
   "metadata": {},
   "outputs": [],
   "source": [
    "# Using PCA to reduce the dimensionality of the data\n",
    "from sklearn.decomposition import PCA\n",
    "pca = PCA(n_components=20)\n",
    "pca.fit(x)\n",
    "x_pca = pca.transform(x)"
   ]
  },
  {
   "cell_type": "code",
   "execution_count": 5,
   "metadata": {},
   "outputs": [],
   "source": [
    "# Reducing the size of the data\n",
    "x, _, y, _ = train_test_split(x_pca, y, test_size=0.5, random_state=42)"
   ]
  },
  {
   "cell_type": "code",
   "execution_count": 6,
   "metadata": {},
   "outputs": [],
   "source": [
    "# Splitting the data into training and testing sets\n",
    "x_train, x_test, y_train, y_test = train_test_split(x, y, test_size=0.2, random_state=42)"
   ]
  },
  {
   "cell_type": "code",
   "execution_count": 8,
   "metadata": {},
   "outputs": [
    {
     "name": "stdout",
     "output_type": "stream",
     "text": [
      "{'n_neighbors': 17}\n",
      "0.9001250000000001\n"
     ]
    }
   ],
   "source": [
    "# Finding the best params for the knn classifier\n",
    "\n",
    "params = {'n_neighbors': [1, 3, 5, 7, 9, 11, 13, 15, 17, 19]}\n",
    "knn = KNeighborsClassifier()\n",
    "clf = GridSearchCV(knn, params, cv=5)\n",
    "clf.fit(x_train, y_train)\n",
    "print(clf.best_params_)\n",
    "print(clf.best_score_)\n",
    "\n",
    "best_number_of_neighbors = clf.best_params_['n_neighbors']"
   ]
  },
  {
   "cell_type": "code",
   "execution_count": 9,
   "metadata": {},
   "outputs": [
    {
     "name": "stdout",
     "output_type": "stream",
     "text": [
      "{'max_depth': 1}\n",
      "0.9001374999999999\n"
     ]
    }
   ],
   "source": [
    "# Finding the best params for the decision tree classifier\n",
    "\n",
    "params = {'max_depth': [1, 3, 5, 7, 9, 11, 13, 15, 17, 19]}\n",
    "dt = DecisionTreeClassifier()\n",
    "clf = GridSearchCV(dt, params, cv=5)\n",
    "clf.fit(x_train, y_train)\n",
    "print(clf.best_params_)\n",
    "print(clf.best_score_)\n",
    "\n",
    "best_depth = clf.best_params_['max_depth']"
   ]
  },
  {
   "cell_type": "code",
   "execution_count": 10,
   "metadata": {},
   "outputs": [],
   "source": [
    "# Training 30 weak learners knn and decision trees\n",
    "weak_learners = 30\n",
    "L = []\n",
    "\n",
    "for i in range(weak_learners):\n",
    "    clf = KNeighborsClassifier(n_neighbors=best_number_of_neighbors)\n",
    "    clf.fit(x_train, y_train)\n",
    "    L.append(clf)\n",
    "\n",
    "for j in range(weak_learners):\n",
    "    clf = DecisionTreeClassifier(max_depth=best_depth)\n",
    "    clf.fit(x_train, y_train)\n",
    "    L.append(clf)"
   ]
  },
  {
   "cell_type": "code",
   "execution_count": 11,
   "metadata": {},
   "outputs": [
    {
     "ename": "KeyboardInterrupt",
     "evalue": "",
     "output_type": "error",
     "traceback": [
      "\u001b[1;31m---------------------------------------------------------------------------\u001b[0m",
      "\u001b[1;31mKeyboardInterrupt\u001b[0m                         Traceback (most recent call last)",
      "Cell \u001b[1;32mIn[11], line 1\u001b[0m\n\u001b[1;32m----> 1\u001b[0m w_opt \u001b[39m=\u001b[39m qb\u001b[39m.\u001b[39;49mRGS(L,x_train,y_train,\u001b[39m1\u001b[39;49m)\n\u001b[0;32m      2\u001b[0m y_pred \u001b[39m=\u001b[39m qb\u001b[39m.\u001b[39mPredictRGS(L,w_opt,x_test)\n",
      "File \u001b[1;32md:\\Code\\SG_Code\\QBOOST.py:125\u001b[0m, in \u001b[0;36mRGS\u001b[1;34m(L, x, y, lambda_)\u001b[0m\n\u001b[0;32m    110\u001b[0m \u001b[39m\u001b[39m\u001b[39m'''\u001b[39;00m\n\u001b[0;32m    111\u001b[0m \u001b[39m## Description:\u001b[39;00m\n\u001b[0;32m    112\u001b[0m \u001b[39m    Implements RGS method using weak classifiers and Simulated Annealing\u001b[39;00m\n\u001b[1;32m   (...)\u001b[0m\n\u001b[0;32m    121\u001b[0m \u001b[39m    lambda_ (scalar): regularization parameter\u001b[39;00m\n\u001b[0;32m    122\u001b[0m \u001b[39m'''\u001b[39;00m\n\u001b[0;32m    124\u001b[0m \u001b[39m# Define QUBO matrix\u001b[39;00m\n\u001b[1;32m--> 125\u001b[0m Q \u001b[39m=\u001b[39m QUBO(L,x,y,lambda_)\n\u001b[0;32m    127\u001b[0m \u001b[39m# Define QUBO problem\u001b[39;00m\n\u001b[0;32m    129\u001b[0m \u001b[39mdef\u001b[39;00m \u001b[39mf\u001b[39m(w):\n",
      "File \u001b[1;32md:\\Code\\SG_Code\\QBOOST.py:52\u001b[0m, in \u001b[0;36mQUBO\u001b[1;34m(L, x, y, lambda_)\u001b[0m\n\u001b[0;32m     50\u001b[0m \u001b[39mfor\u001b[39;00m j \u001b[39min\u001b[39;00m \u001b[39mrange\u001b[39m(i,N):\n\u001b[0;32m     51\u001b[0m     \u001b[39mif\u001b[39;00m j \u001b[39m!=\u001b[39m i:\n\u001b[1;32m---> 52\u001b[0m         Q[i,j] \u001b[39m=\u001b[39m Corr(L[i]\u001b[39m.\u001b[39mpredict(x),L[j]\u001b[39m.\u001b[39;49mpredict(x))\n\u001b[0;32m     53\u001b[0m         Q[j,i] \u001b[39m=\u001b[39m Q[i,j]\n\u001b[0;32m     54\u001b[0m     \u001b[39melse\u001b[39;00m:\n",
      "File \u001b[1;32md:\\Code\\SG_Code\\env\\lib\\site-packages\\sklearn\\neighbors\\_classification.py:252\u001b[0m, in \u001b[0;36mKNeighborsClassifier.predict\u001b[1;34m(self, X)\u001b[0m\n\u001b[0;32m    250\u001b[0m \u001b[39mfor\u001b[39;00m k, classes_k \u001b[39min\u001b[39;00m \u001b[39menumerate\u001b[39m(classes_):\n\u001b[0;32m    251\u001b[0m     \u001b[39mif\u001b[39;00m weights \u001b[39mis\u001b[39;00m \u001b[39mNone\u001b[39;00m:\n\u001b[1;32m--> 252\u001b[0m         mode, _ \u001b[39m=\u001b[39m _mode(_y[neigh_ind, k], axis\u001b[39m=\u001b[39;49m\u001b[39m1\u001b[39;49m)\n\u001b[0;32m    253\u001b[0m     \u001b[39melse\u001b[39;00m:\n\u001b[0;32m    254\u001b[0m         mode, _ \u001b[39m=\u001b[39m weighted_mode(_y[neigh_ind, k], weights, axis\u001b[39m=\u001b[39m\u001b[39m1\u001b[39m)\n",
      "File \u001b[1;32md:\\Code\\SG_Code\\env\\lib\\site-packages\\sklearn\\utils\\fixes.py:169\u001b[0m, in \u001b[0;36m_mode\u001b[1;34m(a, axis)\u001b[0m\n\u001b[0;32m    167\u001b[0m \u001b[39mdef\u001b[39;00m \u001b[39m_mode\u001b[39m(a, axis\u001b[39m=\u001b[39m\u001b[39m0\u001b[39m):\n\u001b[0;32m    168\u001b[0m     \u001b[39mif\u001b[39;00m sp_version \u001b[39m>\u001b[39m\u001b[39m=\u001b[39m parse_version(\u001b[39m\"\u001b[39m\u001b[39m1.9.0\u001b[39m\u001b[39m\"\u001b[39m):\n\u001b[1;32m--> 169\u001b[0m         mode \u001b[39m=\u001b[39m scipy\u001b[39m.\u001b[39;49mstats\u001b[39m.\u001b[39;49mmode(a, axis\u001b[39m=\u001b[39;49maxis, keepdims\u001b[39m=\u001b[39;49m\u001b[39mTrue\u001b[39;49;00m)\n\u001b[0;32m    170\u001b[0m         \u001b[39mif\u001b[39;00m sp_version \u001b[39m>\u001b[39m\u001b[39m=\u001b[39m parse_version(\u001b[39m\"\u001b[39m\u001b[39m1.10.999\u001b[39m\u001b[39m\"\u001b[39m):\n\u001b[0;32m    171\u001b[0m             \u001b[39m# scipy.stats.mode has changed returned array shape with axis=None\u001b[39;00m\n\u001b[0;32m    172\u001b[0m             \u001b[39m# and keepdims=True, see https://github.com/scipy/scipy/pull/17561\u001b[39;00m\n\u001b[0;32m    173\u001b[0m             \u001b[39mif\u001b[39;00m axis \u001b[39mis\u001b[39;00m \u001b[39mNone\u001b[39;00m:\n",
      "File \u001b[1;32md:\\Code\\SG_Code\\env\\lib\\site-packages\\scipy\\stats\\_stats_py.py:633\u001b[0m, in \u001b[0;36mmode\u001b[1;34m(a, axis, nan_policy, keepdims)\u001b[0m\n\u001b[0;32m    631\u001b[0m counts \u001b[39m=\u001b[39m np\u001b[39m.\u001b[39mempty(a_view\u001b[39m.\u001b[39mshape[:\u001b[39m-\u001b[39m\u001b[39m1\u001b[39m], dtype\u001b[39m=\u001b[39mnp\u001b[39m.\u001b[39mint_)\n\u001b[0;32m    632\u001b[0m \u001b[39mfor\u001b[39;00m ind \u001b[39min\u001b[39;00m inds:\n\u001b[1;32m--> 633\u001b[0m     modes[ind], counts[ind] \u001b[39m=\u001b[39m _mode1D(a_view[ind])\n\u001b[0;32m    635\u001b[0m \u001b[39mif\u001b[39;00m keepdims \u001b[39mis\u001b[39;00m \u001b[39mNone\u001b[39;00m \u001b[39mor\u001b[39;00m keepdims:\n\u001b[0;32m    636\u001b[0m     newshape \u001b[39m=\u001b[39m \u001b[39mlist\u001b[39m(a\u001b[39m.\u001b[39mshape)\n",
      "File \u001b[1;32md:\\Code\\SG_Code\\env\\lib\\site-packages\\scipy\\stats\\_stats_py.py:620\u001b[0m, in \u001b[0;36mmode.<locals>._mode1D\u001b[1;34m(a)\u001b[0m\n\u001b[0;32m    619\u001b[0m \u001b[39mdef\u001b[39;00m \u001b[39m_mode1D\u001b[39m(a):\n\u001b[1;32m--> 620\u001b[0m     vals, cnts \u001b[39m=\u001b[39m np\u001b[39m.\u001b[39;49munique(a, return_counts\u001b[39m=\u001b[39;49m\u001b[39mTrue\u001b[39;49;00m)\n\u001b[0;32m    621\u001b[0m     \u001b[39mreturn\u001b[39;00m vals[cnts\u001b[39m.\u001b[39margmax()], cnts\u001b[39m.\u001b[39mmax()\n",
      "File \u001b[1;32m<__array_function__ internals>:200\u001b[0m, in \u001b[0;36munique\u001b[1;34m(*args, **kwargs)\u001b[0m\n",
      "File \u001b[1;32md:\\Code\\SG_Code\\env\\lib\\site-packages\\numpy\\lib\\arraysetops.py:274\u001b[0m, in \u001b[0;36munique\u001b[1;34m(ar, return_index, return_inverse, return_counts, axis, equal_nan)\u001b[0m\n\u001b[0;32m    272\u001b[0m ar \u001b[39m=\u001b[39m np\u001b[39m.\u001b[39masanyarray(ar)\n\u001b[0;32m    273\u001b[0m \u001b[39mif\u001b[39;00m axis \u001b[39mis\u001b[39;00m \u001b[39mNone\u001b[39;00m:\n\u001b[1;32m--> 274\u001b[0m     ret \u001b[39m=\u001b[39m _unique1d(ar, return_index, return_inverse, return_counts, \n\u001b[0;32m    275\u001b[0m                     equal_nan\u001b[39m=\u001b[39;49mequal_nan)\n\u001b[0;32m    276\u001b[0m     \u001b[39mreturn\u001b[39;00m _unpack_tuple(ret)\n\u001b[0;32m    278\u001b[0m \u001b[39m# axis was specified and not None\u001b[39;00m\n",
      "File \u001b[1;32md:\\Code\\SG_Code\\env\\lib\\site-packages\\numpy\\lib\\arraysetops.py:363\u001b[0m, in \u001b[0;36m_unique1d\u001b[1;34m(ar, return_index, return_inverse, return_counts, equal_nan)\u001b[0m\n\u001b[0;32m    361\u001b[0m     ret \u001b[39m+\u001b[39m\u001b[39m=\u001b[39m (inv_idx,)\n\u001b[0;32m    362\u001b[0m \u001b[39mif\u001b[39;00m return_counts:\n\u001b[1;32m--> 363\u001b[0m     idx \u001b[39m=\u001b[39m np\u001b[39m.\u001b[39;49mconcatenate(np\u001b[39m.\u001b[39;49mnonzero(mask) \u001b[39m+\u001b[39;49m ([mask\u001b[39m.\u001b[39;49msize],))\n\u001b[0;32m    364\u001b[0m     ret \u001b[39m+\u001b[39m\u001b[39m=\u001b[39m (np\u001b[39m.\u001b[39mdiff(idx),)\n\u001b[0;32m    365\u001b[0m \u001b[39mreturn\u001b[39;00m ret\n",
      "File \u001b[1;32m<__array_function__ internals>:200\u001b[0m, in \u001b[0;36mconcatenate\u001b[1;34m(*args, **kwargs)\u001b[0m\n",
      "\u001b[1;31mKeyboardInterrupt\u001b[0m: "
     ]
    }
   ],
   "source": [
    "w_opt = qb.RGS(L,x_train,y_train,1)\n",
    "y_pred = qb.PredictRGS(L,w_opt,x_test)"
   ]
  },
  {
   "cell_type": "code",
   "execution_count": null,
   "metadata": {},
   "outputs": [],
   "source": [
    "w_opt"
   ]
  },
  {
   "cell_type": "code",
   "execution_count": null,
   "metadata": {},
   "outputs": [],
   "source": [
    "cm = confusion_matrix(y_test, y_pred)\n",
    "sns.heatmap(cm, annot=True, cmap=\"Blues\", fmt=\"d\")"
   ]
  },
  {
   "cell_type": "code",
   "execution_count": null,
   "metadata": {},
   "outputs": [],
   "source": [
    "# Plotting the PR curve\n",
    "from sklearn.metrics import average_precision_score\n",
    "from sklearn.metrics import auc\n",
    "average_precision = average_precision_score(y_test, y_pred)\n",
    "print('Average precision-recall score: {0:0.2f}'.format(average_precision))\n",
    "\n",
    "\n",
    "from sklearn.metrics import precision_recall_curve\n",
    "from funcsigs import signature\n",
    "\n",
    "precision, recall, _ = precision_recall_curve(y_test, y_pred)\n",
    "aucpr_score = auc(recall, precision)\n",
    "\n",
    "step_kwargs = ({'step': 'post'}\n",
    "                if 'step' in signature(plt.fill_between).parameters\n",
    "                else {})\n",
    "plt.step(recall, precision, color='b', alpha=0.2,\n",
    "            where='post')   \n",
    "plt.fill_between(recall, precision, alpha=0.2, color='b', **step_kwargs)\n",
    "\n",
    "plt.xlabel('Recall')\n",
    "plt.ylabel('Precision')\n",
    "plt.ylim([0.0, 1.05])\n",
    "plt.xlim([0.0, 1.0])\n",
    "plt.title('PR curve for RGS (n=60, maxd=5): AP={0:0.2f}'.format(average_precision) + ' ' + 'AUCPR={0:0.2f}'.format(aucpr_score))"
   ]
  }
 ],
 "metadata": {
  "kernelspec": {
   "display_name": "env",
   "language": "python",
   "name": "python3"
  },
  "language_info": {
   "codemirror_mode": {
    "name": "ipython",
    "version": 3
   },
   "file_extension": ".py",
   "mimetype": "text/x-python",
   "name": "python",
   "nbconvert_exporter": "python",
   "pygments_lexer": "ipython3",
   "version": "3.10.0"
  },
  "orig_nbformat": 4
 },
 "nbformat": 4,
 "nbformat_minor": 2
}
