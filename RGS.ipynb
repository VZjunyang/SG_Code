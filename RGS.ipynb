{
 "cells": [
  {
   "cell_type": "code",
   "execution_count": 22,
   "metadata": {},
   "outputs": [],
   "source": [
    "import pandas as pd\n",
    "import numpy as np\n",
    "import matplotlib.pyplot as plt\n",
    "import scipy as sp  \n",
    "import math"
   ]
  },
  {
   "cell_type": "code",
   "execution_count": 155,
   "metadata": {},
   "outputs": [],
   "source": [
    "def Corr(l1,l2):\n",
    "    '''\n",
    "    ## Description:\n",
    "        Correlation function between two lists of the same length.\n",
    "\n",
    "    ## Returns:\n",
    "        corr (float): correlation between the two lists\n",
    "\n",
    "    ## Parameters:\n",
    "        l1 (list): list of predictions of the first classifier (1 or 0)\n",
    "        l2 (list): list of predicions of the second classifier / true values (1 or 0)\n",
    "    '''\n",
    "\n",
    "    N = len(l1)\n",
    "    # Get the correlation\n",
    "    corr = 0\n",
    "    for i in range(len(l1)):\n",
    "        corr += (2*l1[i]-1)*(2*l2[i]-1) # Scaling to -1,1\n",
    "    return corr"
   ]
  },
  {
   "cell_type": "code",
   "execution_count": 157,
   "metadata": {},
   "outputs": [],
   "source": [
    "def QUBO(L,x,y,lambda_):\n",
    "    '''\n",
    "    ## Description:\n",
    "        Defines QUBO problem\n",
    "\n",
    "    ## Returns:\n",
    "    Q: QUBO matrix\n",
    "\n",
    "\n",
    "    ## Parameters:\n",
    "        L: list of weak classifiers (0 and 1)\n",
    "        x: data\n",
    "        y: labels\n",
    "        lambda_: regularization parameter\n",
    "    '''\n",
    "    N = len(L)\n",
    "    S = len(x)\n",
    "\n",
    "\n",
    "    # Define QUBO matrix\n",
    "    Q = np.zeros((N,N))\n",
    "\n",
    "    for i in range(N):\n",
    "        for j in range(i,N):\n",
    "            if j != i:\n",
    "                Q[i,j] = Corr(L[i].predict(x),L[j].predict(x))\n",
    "                Q[j,i] = Q[i,j]\n",
    "            else:\n",
    "                Q[i,i] = lambda_ - 2*Corr(np.array(L[i].predict(x)), np.array(y)) + S/(N**2)\n",
    "    \n",
    "    return Q\n",
    "                "
   ]
  },
  {
   "cell_type": "code",
   "execution_count": 62,
   "metadata": {},
   "outputs": [],
   "source": [
    "def simulated_annealing(func, init_state, T, reanneal, max_iter):\n",
    "    \"\"\"\n",
    "        ## Description:\n",
    "            Simulated annealing algorithm\n",
    "            Finds the minimum of a function func using simulated annealing.\n",
    "\n",
    "        ## Returns:\n",
    "            current_state: final solution\n",
    "            current_energy: final energy\n",
    "\n",
    "        ## Parameters:\n",
    "            func: function to minimize\n",
    "            init_state (array of 0 and 1): initial solution\n",
    "            T: initial temperature\n",
    "            reanneal: number of iterations before reannealing\n",
    "            max_iter: maximum number of iterations\n",
    "    \"\"\"\n",
    "\n",
    "    # Initialize\n",
    "    current_state = init_state\n",
    "    current_energy = func(current_state)\n",
    "\n",
    "    for iteration in range(max_iter):\n",
    "        new_state = current_state.copy()\n",
    "\n",
    "        # Flip one bit\n",
    "        index = np.random.randint(0,len(new_state))\n",
    "        new_state[index] = 1 - new_state[index]\n",
    "\n",
    "        # Compute new energy\n",
    "        new_energy = func(new_state)\n",
    "\n",
    "        # If new energy is lower, accept new state\n",
    "        if new_energy < current_energy:\n",
    "            current_state = new_state\n",
    "            current_energy = new_energy\n",
    "        \n",
    "        # If new energy is higher, accept new state with probability\n",
    "        else:\n",
    "            p = np.exp(-(new_energy - current_energy)/T)      # Compute probability\n",
    "            if np.random.rand() < p:\n",
    "                current_state = new_state\n",
    "                current_energy = new_energy\n",
    "        \n",
    "        # Update temperature\n",
    "        if iteration % reanneal == 0:\n",
    "            T = T*0.95\n",
    "    \n",
    "    return current_state, current_energy  "
   ]
  },
  {
   "cell_type": "code",
   "execution_count": 133,
   "metadata": {},
   "outputs": [],
   "source": [
    "def RGS(L,x,y,lambda_):\n",
    "    '''\n",
    "    ## Description:\n",
    "        Implements RGS method using weak classifiers and Simulated Annealing\n",
    "\n",
    "    ## Returns:\n",
    "    w (array): solution of the QUBO problem\n",
    "\n",
    "    ## Parameters:\n",
    "        L (list): list of weak classifiers\n",
    "        x (array): data\n",
    "        y (array): labels\n",
    "        lambda_ (scalar): regularization parameter\n",
    "    '''\n",
    "\n",
    "    # Define QUBO matrix\n",
    "    Q = QUBO(L,x,y,lambda_)\n",
    "\n",
    "    # Define QUBO problem\n",
    "    \n",
    "    def f(w):\n",
    "        s=0\n",
    "        for i in range(len(w)):\n",
    "            for j in range(len(w)):\n",
    "                s+= Q[i,j]*w[i]*w[j]\n",
    "        return s\n",
    "    \n",
    "    # Define initial state\n",
    "    init_state = np.zeros(len(L))\n",
    "    \n",
    "    # Run simulated annealing\n",
    "    w, energy = simulated_annealing(f,init_state,1,100,1000)\n",
    "\n",
    "    return w, energy\n"
   ]
  },
  {
   "cell_type": "code",
   "execution_count": 238,
   "metadata": {},
   "outputs": [],
   "source": [
    "def PredictRGS(L,w,x):\n",
    "    \n",
    "    N = len(L)\n",
    "    S = len(x)\n",
    "    \n",
    "    predictions = []\n",
    "\n",
    "    for i in range(N):\n",
    "        predictions.append(L[i].predict(x))\n",
    "\n",
    "    predictions = np.array(predictions)\n",
    "    predictions = 2*predictions - 1\n",
    "\n",
    "    # Calculate T\n",
    "    T = 0\n",
    "    for i in range(S):\n",
    "        for j in range(N):\n",
    "            T+= w[j]*predictions[j][i]\n",
    "    T = np.sign(T)\n",
    "\n",
    "    # Calculate predictions \n",
    "    C = []\n",
    "    for i in range(S):\n",
    "        p = 0\n",
    "        for j in range(N):\n",
    "            p += w[j]*predictions[j][i]\n",
    "        p = np.sign(p-T)\n",
    "        C.append(p)\n",
    "    \n",
    "    # Replace -1 by 0\n",
    "    for i in range(len(C)):\n",
    "        if C[i] == -1:\n",
    "            C[i] = 0\n",
    "    return C\n"
   ]
  },
  {
   "cell_type": "code",
   "execution_count": 65,
   "metadata": {},
   "outputs": [],
   "source": [
    "adult  = pd.read_csv(\"adult.csv\", sep=',',header=0)\n",
    "adult = adult.drop('education', axis=1)\n",
    "adult.replace(['Cambodia', 'China', 'Hong', 'India','Iran', 'Japan', 'Laos', 'Philippines','Taiwan', 'Thailand','Vietnam'],'Asia', inplace = True)\n",
    "adult.replace(['Columbia', 'Cuba', 'Dominican-Republic', 'Ecuador', 'El-Salvador','Guatemala', 'Haiti', 'Honduras', 'Jamaica', 'Mexico', 'Nicaragua','Peru', 'Puerto-Rico', 'Trinadad&Tobago', 'South'], 'Center & South America', inplace = True)\n",
    "adult.replace(['England', 'France', 'Germany', 'Greece', 'Holand-Netherlands', 'Hungary', 'Ireland', 'Italy', 'Poland', 'Portugal', 'Scotland', 'Yugoslavia'], 'Europe', inplace = True)\n",
    "adult.replace(['United-States', 'Canada'], 'Canada&USA', inplace = True)"
   ]
  },
  {
   "cell_type": "code",
   "execution_count": 66,
   "metadata": {},
   "outputs": [],
   "source": [
    "features = adult.drop('income', axis = 1)\n",
    "\n",
    "target = []\n",
    "for x in adult['income']:\n",
    "    if x == '>50K':\n",
    "        target.append(1)\n",
    "    else: \n",
    "        target.append(0)\n",
    "\n",
    "\n",
    "features_matrix = pd.get_dummies(features)\n",
    "\n",
    "# Replace bools by 0 and 1\n",
    "features_matrix.replace([False, True], [0, 1], inplace = True)"
   ]
  },
  {
   "cell_type": "code",
   "execution_count": 67,
   "metadata": {},
   "outputs": [
    {
     "name": "stdout",
     "output_type": "stream",
     "text": [
      "Percentage of people with income >50K:  23.93 %\n",
      "Percentage of people with income <=50K:  76.07 %\n"
     ]
    }
   ],
   "source": [
    "# Looking at the distribution of the labels (in percentage)\n",
    "print('Percentage of people with income >50K: ', round(sum(target)/len(target)*100,2), '%')\n",
    "print('Percentage of people with income <=50K: ', round((1-sum(target)/len(target))*100,2), '%')"
   ]
  },
  {
   "cell_type": "code",
   "execution_count": 68,
   "metadata": {},
   "outputs": [],
   "source": [
    "# Split data into training and test sets\n",
    "from sklearn.model_selection import train_test_split\n",
    "x_train, x_test, y_train, y_test = train_test_split(features_matrix, target, test_size=0.2, random_state=42)"
   ]
  },
  {
   "attachments": {},
   "cell_type": "markdown",
   "metadata": {},
   "source": [
    "**RANDOM FOREST**\n",
    "(max_depth = 5)"
   ]
  },
  {
   "cell_type": "code",
   "execution_count": 69,
   "metadata": {},
   "outputs": [
    {
     "data": {
      "text/plain": [
       "<Axes: >"
      ]
     },
     "execution_count": 69,
     "metadata": {},
     "output_type": "execute_result"
    },
    {
     "data": {
      "image/png": "[encoded data removed]",
      "text/plain": [
       "<Figure size 640x480 with 2 Axes>"
      ]
     },
     "metadata": {},
     "output_type": "display_data"
    }
   ],
   "source": [
    "# Training a random forest classifier\n",
    "from sklearn.ensemble import RandomForestClassifier\n",
    "clf = RandomForestClassifier(n_estimators=300, max_depth=5, random_state=0)\n",
    "clf.fit(x_train, y_train)\n",
    "\n",
    "# Printing a confusion matrix using seaborn with better colors\n",
    "from sklearn.metrics import confusion_matrix\n",
    "import seaborn as sns\n",
    "y_pred = clf.predict(x_test)\n",
    "cm = confusion_matrix(y_test, y_pred)\n",
    "sns.heatmap(cm, annot=True, cmap=\"Blues\", fmt=\"d\")"
   ]
  },
  {
   "cell_type": "code",
   "execution_count": 70,
   "metadata": {},
   "outputs": [
    {
     "name": "stdout",
     "output_type": "stream",
     "text": [
      "Average precision-recall score: 0.50\n"
     ]
    },
    {
     "data": {
      "image/png": "[encoded data removed]",
      "text/plain": [
       "<Figure size 640x480 with 1 Axes>"
      ]
     },
     "metadata": {},
     "output_type": "display_data"
    }
   ],
   "source": [
    "# Printing AUCPR curve\n",
    "from sklearn.metrics import average_precision_score\n",
    "from funcsigs import signature\n",
    "\n",
    "average_precision = average_precision_score(y_test, y_pred)\n",
    "print('Average precision-recall score: {0:0.2f}'.format(average_precision))\n",
    "from sklearn.metrics import precision_recall_curve\n",
    "import matplotlib.pyplot as plt\n",
    "precision, recall, _ = precision_recall_curve(y_test, y_pred)\n",
    "step_kwargs = ({'step': 'post'}\n",
    "                if 'step' in signature(plt.fill_between).parameters\n",
    "                else {})\n",
    "plt.step(recall, precision, color='b', alpha=0.2, where='post')\n",
    "plt.fill_between(recall, precision, alpha=0.2, color='b', **step_kwargs)\n",
    "plt.xlabel('Recall')\n",
    "plt.ylabel('Precision')\n",
    "plt.ylim([0.0, 1.05])\n",
    "plt.xlim([0.0, 1.0])\n",
    "plt.title('AUCPR curve: AP={0:0.2f}'.format(average_precision))\n",
    "plt.show()"
   ]
  },
  {
   "attachments": {},
   "cell_type": "markdown",
   "metadata": {},
   "source": [
    "**QBOOST**"
   ]
  },
  {
   "cell_type": "code",
   "execution_count": 231,
   "metadata": {},
   "outputs": [],
   "source": [
    "# Training 30 decision trees\n",
    "from sklearn.tree import DecisionTreeClassifier\n",
    "\n",
    "L = []\n",
    "for i in range(50):\n",
    "    clf = DecisionTreeClassifier(max_depth=5)\n",
    "    clf.fit(x_train, y_train)\n",
    "    L.append(clf)"
   ]
  },
  {
   "cell_type": "code",
   "execution_count": 239,
   "metadata": {},
   "outputs": [],
   "source": [
    "w = RGS(L,x_train,y_train,2)[0]"
   ]
  },
  {
   "cell_type": "code",
   "execution_count": 240,
   "metadata": {},
   "outputs": [
    {
     "data": {
      "text/plain": [
       "array([[-54872.3708,  39073.    ,  39073.    , ...,  39073.    ,\n",
       "         39073.    ,  39073.    ],\n",
       "       [ 39073.    , -54872.3708,  39073.    , ...,  39073.    ,\n",
       "         39073.    ,  39073.    ],\n",
       "       [ 39073.    ,  39073.    , -54872.3708, ...,  39073.    ,\n",
       "         39073.    ,  39073.    ],\n",
       "       ...,\n",
       "       [ 39073.    ,  39073.    ,  39073.    , ..., -54872.3708,\n",
       "         39073.    ,  39073.    ],\n",
       "       [ 39073.    ,  39073.    ,  39073.    , ...,  39073.    ,\n",
       "        -54872.3708,  39073.    ],\n",
       "       [ 39073.    ,  39073.    ,  39073.    , ...,  39073.    ,\n",
       "         39073.    , -54872.3708]])"
      ]
     },
     "execution_count": 240,
     "metadata": {},
     "output_type": "execute_result"
    }
   ],
   "source": [
    "QUBO(L,x_train,y_train,2)"
   ]
  },
  {
   "cell_type": "code",
   "execution_count": 241,
   "metadata": {},
   "outputs": [
    {
     "ename": "KeyboardInterrupt",
     "evalue": "",
     "output_type": "error",
     "traceback": [
      "\u001b[1;31m---------------------------------------------------------------------------\u001b[0m",
      "\u001b[1;31mKeyboardInterrupt\u001b[0m                         Traceback (most recent call last)",
      "Cell \u001b[1;32mIn[241], line 2\u001b[0m\n\u001b[0;32m      1\u001b[0m \u001b[39m# Minimum through exhaustive search\u001b[39;00m\n\u001b[1;32m----> 2\u001b[0m Q \u001b[39m=\u001b[39m QUBO(L,x_train,y_train,\u001b[39m2\u001b[39;49m)\n\u001b[0;32m      3\u001b[0m \u001b[39mdef\u001b[39;00m \u001b[39mf\u001b[39m(w):\n\u001b[0;32m      4\u001b[0m     s\u001b[39m=\u001b[39m\u001b[39m0\u001b[39m\n",
      "Cell \u001b[1;32mIn[157], line 26\u001b[0m, in \u001b[0;36mQUBO\u001b[1;34m(L, x, y, lambda_)\u001b[0m\n\u001b[0;32m     24\u001b[0m \u001b[39mfor\u001b[39;00m j \u001b[39min\u001b[39;00m \u001b[39mrange\u001b[39m(i,N):\n\u001b[0;32m     25\u001b[0m     \u001b[39mif\u001b[39;00m j \u001b[39m!=\u001b[39m i:\n\u001b[1;32m---> 26\u001b[0m         Q[i,j] \u001b[39m=\u001b[39m Corr(L[i]\u001b[39m.\u001b[39;49mpredict(x),L[j]\u001b[39m.\u001b[39mpredict(x))\n\u001b[0;32m     27\u001b[0m         Q[j,i] \u001b[39m=\u001b[39m Q[i,j]\n\u001b[0;32m     28\u001b[0m     \u001b[39melse\u001b[39;00m:\n",
      "File \u001b[1;32md:\\Polytechnique\\Stage 2A\\SG\\Code\\env\\lib\\site-packages\\sklearn\\tree\\_classes.py:426\u001b[0m, in \u001b[0;36mBaseDecisionTree.predict\u001b[1;34m(self, X, check_input)\u001b[0m\n\u001b[0;32m    403\u001b[0m \u001b[39m\u001b[39m\u001b[39m\"\"\"Predict class or regression value for X.\u001b[39;00m\n\u001b[0;32m    404\u001b[0m \n\u001b[0;32m    405\u001b[0m \u001b[39mFor a classification model, the predicted class for each sample in X is\u001b[39;00m\n\u001b[1;32m   (...)\u001b[0m\n\u001b[0;32m    423\u001b[0m \u001b[39m    The predicted classes, or the predict values.\u001b[39;00m\n\u001b[0;32m    424\u001b[0m \u001b[39m\"\"\"\u001b[39;00m\n\u001b[0;32m    425\u001b[0m check_is_fitted(\u001b[39mself\u001b[39m)\n\u001b[1;32m--> 426\u001b[0m X \u001b[39m=\u001b[39m \u001b[39mself\u001b[39;49m\u001b[39m.\u001b[39;49m_validate_X_predict(X, check_input)\n\u001b[0;32m    427\u001b[0m proba \u001b[39m=\u001b[39m \u001b[39mself\u001b[39m\u001b[39m.\u001b[39mtree_\u001b[39m.\u001b[39mpredict(X)\n\u001b[0;32m    428\u001b[0m n_samples \u001b[39m=\u001b[39m X\u001b[39m.\u001b[39mshape[\u001b[39m0\u001b[39m]\n",
      "File \u001b[1;32md:\\Polytechnique\\Stage 2A\\SG\\Code\\env\\lib\\site-packages\\sklearn\\tree\\_classes.py:392\u001b[0m, in \u001b[0;36mBaseDecisionTree._validate_X_predict\u001b[1;34m(self, X, check_input)\u001b[0m\n\u001b[0;32m    390\u001b[0m \u001b[39m\u001b[39m\u001b[39m\"\"\"Validate the training data on predict (probabilities).\"\"\"\u001b[39;00m\n\u001b[0;32m    391\u001b[0m \u001b[39mif\u001b[39;00m check_input:\n\u001b[1;32m--> 392\u001b[0m     X \u001b[39m=\u001b[39m \u001b[39mself\u001b[39;49m\u001b[39m.\u001b[39;49m_validate_data(X, dtype\u001b[39m=\u001b[39;49mDTYPE, accept_sparse\u001b[39m=\u001b[39;49m\u001b[39m\"\u001b[39;49m\u001b[39mcsr\u001b[39;49m\u001b[39m\"\u001b[39;49m, reset\u001b[39m=\u001b[39;49m\u001b[39mFalse\u001b[39;49;00m)\n\u001b[0;32m    393\u001b[0m     \u001b[39mif\u001b[39;00m issparse(X) \u001b[39mand\u001b[39;00m (\n\u001b[0;32m    394\u001b[0m         X\u001b[39m.\u001b[39mindices\u001b[39m.\u001b[39mdtype \u001b[39m!=\u001b[39m np\u001b[39m.\u001b[39mintc \u001b[39mor\u001b[39;00m X\u001b[39m.\u001b[39mindptr\u001b[39m.\u001b[39mdtype \u001b[39m!=\u001b[39m np\u001b[39m.\u001b[39mintc\n\u001b[0;32m    395\u001b[0m     ):\n\u001b[0;32m    396\u001b[0m         \u001b[39mraise\u001b[39;00m \u001b[39mValueError\u001b[39;00m(\u001b[39m\"\u001b[39m\u001b[39mNo support for np.int64 index based sparse matrices\u001b[39m\u001b[39m\"\u001b[39m)\n",
      "File \u001b[1;32md:\\Polytechnique\\Stage 2A\\SG\\Code\\env\\lib\\site-packages\\sklearn\\base.py:565\u001b[0m, in \u001b[0;36mBaseEstimator._validate_data\u001b[1;34m(self, X, y, reset, validate_separately, **check_params)\u001b[0m\n\u001b[0;32m    563\u001b[0m     \u001b[39mraise\u001b[39;00m \u001b[39mValueError\u001b[39;00m(\u001b[39m\"\u001b[39m\u001b[39mValidation should be done on X, y or both.\u001b[39m\u001b[39m\"\u001b[39m)\n\u001b[0;32m    564\u001b[0m \u001b[39melif\u001b[39;00m \u001b[39mnot\u001b[39;00m no_val_X \u001b[39mand\u001b[39;00m no_val_y:\n\u001b[1;32m--> 565\u001b[0m     X \u001b[39m=\u001b[39m check_array(X, input_name\u001b[39m=\u001b[39m\u001b[39m\"\u001b[39m\u001b[39mX\u001b[39m\u001b[39m\"\u001b[39m, \u001b[39m*\u001b[39m\u001b[39m*\u001b[39mcheck_params)\n\u001b[0;32m    566\u001b[0m     out \u001b[39m=\u001b[39m X\n\u001b[0;32m    567\u001b[0m \u001b[39melif\u001b[39;00m no_val_X \u001b[39mand\u001b[39;00m \u001b[39mnot\u001b[39;00m no_val_y:\n",
      "File \u001b[1;32md:\\Polytechnique\\Stage 2A\\SG\\Code\\env\\lib\\site-packages\\sklearn\\utils\\validation.py:921\u001b[0m, in \u001b[0;36mcheck_array\u001b[1;34m(array, accept_sparse, accept_large_sparse, dtype, order, copy, force_all_finite, ensure_2d, allow_nd, ensure_min_samples, ensure_min_features, estimator, input_name)\u001b[0m\n\u001b[0;32m    915\u001b[0m         \u001b[39mraise\u001b[39;00m \u001b[39mValueError\u001b[39;00m(\n\u001b[0;32m    916\u001b[0m             \u001b[39m\"\u001b[39m\u001b[39mFound array with dim \u001b[39m\u001b[39m%d\u001b[39;00m\u001b[39m. \u001b[39m\u001b[39m%s\u001b[39;00m\u001b[39m expected <= 2.\u001b[39m\u001b[39m\"\u001b[39m\n\u001b[0;32m    917\u001b[0m             \u001b[39m%\u001b[39m (array\u001b[39m.\u001b[39mndim, estimator_name)\n\u001b[0;32m    918\u001b[0m         )\n\u001b[0;32m    920\u001b[0m     \u001b[39mif\u001b[39;00m force_all_finite:\n\u001b[1;32m--> 921\u001b[0m         _assert_all_finite(\n\u001b[0;32m    922\u001b[0m             array,\n\u001b[0;32m    923\u001b[0m             input_name\u001b[39m=\u001b[39;49minput_name,\n\u001b[0;32m    924\u001b[0m             estimator_name\u001b[39m=\u001b[39;49mestimator_name,\n\u001b[0;32m    925\u001b[0m             allow_nan\u001b[39m=\u001b[39;49mforce_all_finite \u001b[39m==\u001b[39;49m \u001b[39m\"\u001b[39;49m\u001b[39mallow-nan\u001b[39;49m\u001b[39m\"\u001b[39;49m,\n\u001b[0;32m    926\u001b[0m         )\n\u001b[0;32m    928\u001b[0m \u001b[39mif\u001b[39;00m ensure_min_samples \u001b[39m>\u001b[39m \u001b[39m0\u001b[39m:\n\u001b[0;32m    929\u001b[0m     n_samples \u001b[39m=\u001b[39m _num_samples(array)\n",
      "File \u001b[1;32md:\\Polytechnique\\Stage 2A\\SG\\Code\\env\\lib\\site-packages\\sklearn\\utils\\validation.py:122\u001b[0m, in \u001b[0;36m_assert_all_finite\u001b[1;34m(X, allow_nan, msg_dtype, estimator_name, input_name)\u001b[0m\n\u001b[0;32m    117\u001b[0m \u001b[39m# First try an O(n) time, O(1) space solution for the common case that\u001b[39;00m\n\u001b[0;32m    118\u001b[0m \u001b[39m# everything is finite; fall back to O(n) space `np.isinf/isnan` or custom\u001b[39;00m\n\u001b[0;32m    119\u001b[0m \u001b[39m# Cython implementation to prevent false positives and provide a detailed\u001b[39;00m\n\u001b[0;32m    120\u001b[0m \u001b[39m# error message.\u001b[39;00m\n\u001b[0;32m    121\u001b[0m \u001b[39mwith\u001b[39;00m np\u001b[39m.\u001b[39merrstate(over\u001b[39m=\u001b[39m\u001b[39m\"\u001b[39m\u001b[39mignore\u001b[39m\u001b[39m\"\u001b[39m):\n\u001b[1;32m--> 122\u001b[0m     first_pass_isfinite \u001b[39m=\u001b[39m xp\u001b[39m.\u001b[39misfinite(xp\u001b[39m.\u001b[39;49msum(X))\n\u001b[0;32m    123\u001b[0m \u001b[39mif\u001b[39;00m first_pass_isfinite:\n\u001b[0;32m    124\u001b[0m     \u001b[39mreturn\u001b[39;00m\n",
      "File \u001b[1;32m<__array_function__ internals>:200\u001b[0m, in \u001b[0;36msum\u001b[1;34m(*args, **kwargs)\u001b[0m\n",
      "File \u001b[1;32md:\\Polytechnique\\Stage 2A\\SG\\Code\\env\\lib\\site-packages\\numpy\\core\\fromnumeric.py:2324\u001b[0m, in \u001b[0;36msum\u001b[1;34m(a, axis, dtype, out, keepdims, initial, where)\u001b[0m\n\u001b[0;32m   2321\u001b[0m         \u001b[39mreturn\u001b[39;00m out\n\u001b[0;32m   2322\u001b[0m     \u001b[39mreturn\u001b[39;00m res\n\u001b[1;32m-> 2324\u001b[0m \u001b[39mreturn\u001b[39;00m _wrapreduction(a, np\u001b[39m.\u001b[39;49madd, \u001b[39m'\u001b[39;49m\u001b[39msum\u001b[39;49m\u001b[39m'\u001b[39;49m, axis, dtype, out, keepdims\u001b[39m=\u001b[39;49mkeepdims,\n\u001b[0;32m   2325\u001b[0m                       initial\u001b[39m=\u001b[39;49minitial, where\u001b[39m=\u001b[39;49mwhere)\n",
      "File \u001b[1;32md:\\Polytechnique\\Stage 2A\\SG\\Code\\env\\lib\\site-packages\\numpy\\core\\fromnumeric.py:86\u001b[0m, in \u001b[0;36m_wrapreduction\u001b[1;34m(obj, ufunc, method, axis, dtype, out, **kwargs)\u001b[0m\n\u001b[0;32m     83\u001b[0m         \u001b[39melse\u001b[39;00m:\n\u001b[0;32m     84\u001b[0m             \u001b[39mreturn\u001b[39;00m reduction(axis\u001b[39m=\u001b[39maxis, out\u001b[39m=\u001b[39mout, \u001b[39m*\u001b[39m\u001b[39m*\u001b[39mpasskwargs)\n\u001b[1;32m---> 86\u001b[0m \u001b[39mreturn\u001b[39;00m ufunc\u001b[39m.\u001b[39mreduce(obj, axis, dtype, out, \u001b[39m*\u001b[39m\u001b[39m*\u001b[39mpasskwargs)\n",
      "\u001b[1;31mKeyboardInterrupt\u001b[0m: "
     ]
    }
   ],
   "source": [
    "# Minimum through exhaustive search\n",
    "Q = QUBO(L,x_train,y_train,2)\n",
    "def f(w):\n",
    "    s=0\n",
    "    for i in range(len(w)):\n",
    "        for j in range(len(w)):\n",
    "            s+= Q[i,j]*w[i]*w[j]\n",
    "    return s\n",
    "\n",
    "compteur = 0\n",
    "state = np.zeros(len(L))\n",
    "m = f(state)\n",
    "# Finds the minimum of the QUBO function through exhaustive search\n",
    "for i in range(2**len(L)):\n",
    "    compteur += 1\n",
    "    state = np.zeros(len(L))\n",
    "    for j in range(len(L)):\n",
    "        state[j] = (i//2**j)%2\n",
    "    if f(state) < m:\n",
    "        m = f(state)\n",
    "        w = state\n",
    "print('Minimum found: ', m)\n",
    "\n"
   ]
  },
  {
   "cell_type": "code",
   "execution_count": 242,
   "metadata": {},
   "outputs": [
    {
     "data": {
      "text/plain": [
       "<Axes: >"
      ]
     },
     "execution_count": 242,
     "metadata": {},
     "output_type": "execute_result"
    },
    {
     "data": {
      "image/png": "[encoded data removed]",
      "text/plain": [
       "<Figure size 640x480 with 2 Axes>"
      ]
     },
     "metadata": {},
     "output_type": "display_data"
    }
   ],
   "source": [
    "y_pred = PredictRGS(L,w,x_test)\n",
    "cm = confusion_matrix(y_test, y_pred)\n",
    "sns.heatmap(cm, annot=True, cmap=\"Blues\", fmt=\"d\")"
   ]
  },
  {
   "cell_type": "code",
   "execution_count": 243,
   "metadata": {},
   "outputs": [
    {
     "name": "stdout",
     "output_type": "stream",
     "text": [
      "Average precision-recall score: 0.53\n"
     ]
    },
    {
     "data": {
      "image/png": "[encoded data removed]",
      "text/plain": [
       "<Figure size 640x480 with 1 Axes>"
      ]
     },
     "metadata": {},
     "output_type": "display_data"
    }
   ],
   "source": [
    "# Printing AUCPR curve\n",
    "from sklearn.metrics import average_precision_score\n",
    "from funcsigs import signature\n",
    "\n",
    "average_precision = average_precision_score(y_test, y_pred)\n",
    "print('Average precision-recall score: {0:0.2f}'.format(average_precision))\n",
    "from sklearn.metrics import precision_recall_curve\n",
    "import matplotlib.pyplot as plt\n",
    "precision, recall, _ = precision_recall_curve(y_test, y_pred)\n",
    "step_kwargs = ({'step': 'post'}\n",
    "                if 'step' in signature(plt.fill_between).parameters\n",
    "                else {})\n",
    "plt.step(recall, precision, color='b', alpha=0.2, where='post')\n",
    "plt.fill_between(recall, precision, alpha=0.2, color='b', **step_kwargs)\n",
    "plt.xlabel('Recall')\n",
    "plt.ylabel('Precision')\n",
    "plt.ylim([0.0, 1.05])\n",
    "plt.xlim([0.0, 1.0])\n",
    "plt.title('AUCPR curve: AP={0:0.2f}'.format(average_precision))\n",
    "plt.show()"
   ]
  }
 ],
 "metadata": {
  "kernelspec": {
   "display_name": "env",
   "language": "python",
   "name": "python3"
  },
  "language_info": {
   "codemirror_mode": {
    "name": "ipython",
    "version": 3
   },
   "file_extension": ".py",
   "mimetype": "text/x-python",
   "name": "python",
   "nbconvert_exporter": "python",
   "pygments_lexer": "ipython3",
   "version": "3.10.0"
  },
  "orig_nbformat": 4
 },
 "nbformat": 4,
 "nbformat_minor": 2
}
